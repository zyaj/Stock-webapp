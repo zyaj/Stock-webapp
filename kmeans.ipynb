{
 "cells": [
  {
   "cell_type": "code",
   "execution_count": 1,
   "metadata": {
    "collapsed": true
   },
   "outputs": [],
   "source": [
    "import numpy as np\n",
    "import random"
   ]
  },
  {
   "cell_type": "code",
   "execution_count": 2,
   "metadata": {
    "collapsed": true
   },
   "outputs": [],
   "source": [
    "#####################\n",
    "# class: clusters(c_cnt,coords)\n",
    "# init: number of clusters\n",
    "#       vector array for the locations for all clusters\n",
    "# usage: store clusters\n",
    "# para: c_cnt=number of cluster\n",
    "#       coords=vector array for the initial location of cluster centers\n",
    "# Yun Zhang 09/16/2017\n",
    "#####################\n",
    "class clusters():\n",
    "    \n",
    "    # initialization\n",
    "    def __init__(self,c_cnt,coords):\n",
    "        self.c_cnt=c_cnt        \n",
    "        self.coords=coords\n",
    "        self.init_coords=coords.copy()\n",
    "        self.pre_coords=None\n",
    "        self.fit=False\n",
    "        self.nodes=[set() for k in range(c_cnt)]\n",
    "    \n",
    "    # eliminate all nodes index for each cluster\n",
    "    def reset_nodes(self):\n",
    "        self.nodes=[set() for k in range(c_cnt)]\n",
    "    \n",
    "    # add a node index for c_id cluster\n",
    "    def push(self,node_id,c_id):\n",
    "        self.nodes[c_id].add(node_id)\n",
    "    \n",
    "    # get all node data for cluster c_id\n",
    "    def nodes_data(self,X,c_id):\n",
    "        return X[list(self.nodes[c_id])]\n",
    "    \n",
    "    # apply mean to update cluster centers\n",
    "    def update_coord(self,X):\n",
    "        if not self.fit:\n",
    "            self.fit=True\n",
    "        self.pre_coords=self.coords\n",
    "        for i,nodes in enumerate(self.nodes):\n",
    "            self.coords[i]=np.mean(X[list(nodes)],axis=0)\n",
    "    \n",
    "    # check convergence\n",
    "    def is_converged(self,tol=1e-3):\n",
    "        if self.fit:\n",
    "            if max(np.sum((self.pre_coords-self.coords)**2,axis=1))<tol:\n",
    "                return True\n",
    "        return False\n",
    "    \n",
    "    # assign nodes to the closed cluster center\n",
    "    def assign_nodes(self,X):\n",
    "        # get number of node\n",
    "        node_cnt=X.shape[0]\n",
    "        # the distance matrix between nodes and cluster center\n",
    "        dist_mat=np.sum((X-self.coords[0])**2,axis=1).reshape(node_cnt,1)\n",
    "        # loop over all the left cluster\n",
    "        for i in range(1,self.c_cnt):\n",
    "            dist_mat=np.concatenate((dist_mat,\n",
    "                                     np.sum((X-self.coords[i])**2,axis=1).reshape(node_cnt,1)),\n",
    "                                    axis=1)\n",
    "        # initial the nodes assignment list\n",
    "        self.nodes=[set() for k in range(self.c_cnt)]\n",
    "        # assign nodes to the cluster with min distance\n",
    "        for i,ind in enumerate(dist_mat.argmin(axis=1)):\n",
    "            self.nodes[ind].add(i)\n",
    "    \n",
    "    # predict cluster for nodes array X       \n",
    "    def predict(self,X):\n",
    "        # get number of node\n",
    "        node_cnt=X.shape[0]\n",
    "        # the distance matrix between nodes and cluster center\n",
    "        dist_mat=np.sum((X-self.coords[0])**2,axis=1).reshape(node_cnt,1)\n",
    "        # loop over all the left cluster\n",
    "        for i in range(1,self.c_cnt):\n",
    "            dist_mat=np.concatenate((dist_mat,\n",
    "                                     np.sum((X-self.coords[i])**2,axis=1).reshape(node_cnt,1)),\n",
    "                                    axis=1)\n",
    "        # initial the nodes assignment list\n",
    "        nodes_c_id=[set() for k in range(self.c_cnt)]\n",
    "        # assign nodes to the cluster with min distance\n",
    "        for i,ind in enumerate(dist_mat.argmin(axis=1)):\n",
    "            nodes_c_id[ind].add(i)\n",
    "        return nodes_c_id,sum(np.min(dist_mat,axis=1))\n",
    "    \n",
    "    # output sum squared distance for train data\n",
    "    def train_ss_dist(self,X):\n",
    "        ss_dist=0\n",
    "        for i,nodes in enumerate(self.nodes):\n",
    "            ss_dist+=sum(np.sum((X[list(nodes)]-self.coords[i])**2,axis=1))\n",
    "        return ss_dist"
   ]
  },
  {
   "cell_type": "code",
   "execution_count": 3,
   "metadata": {
    "collapsed": false
   },
   "outputs": [],
   "source": [
    "##############\n",
    "# function: InitializeKmeans(X,c_cntmethod)\n",
    "# input: the vection array for the location of all points\n",
    "#        the number of clusters\n",
    "#        initialization method\n",
    "# usage: initialize the locations for all clusters\n",
    "# para: method=0: random, method=1: kmeans++, method=2: kmeans||\n",
    "#       l=oversample coefficient, r=the number of rounds for picking nodes for kmeans||\n",
    "# Yun Zhang 09/16/2017\n",
    "##############\n",
    "def InitializeKmeans(X,c_cnt,method=1,l=0.5,r=5):\n",
    "    \n",
    "    # randomly pick initial cluster center\n",
    "    if method==0:\n",
    "        return X[random.sample(range(X.shape[0]),c_cnt)]\n",
    "    \n",
    "    # apply kmeans++ initialization\n",
    "    if method==1:\n",
    "        c_ind=list()\n",
    "        node_cnt=X.shape[0]\n",
    "        c_ind.append(random.randint(0,node_cnt-1))\n",
    "        dist_mat=np.sum((X-X[c_ind[0]])**2,axis=1).reshape(node_cnt,1)\n",
    "        while len(c_ind)<c_cnt:\n",
    "            p=(np.min(dist_mat,axis=1))/sum(np.min(dist_mat,axis=1))\n",
    "            c_ind.append(np.random.choice(range(node_cnt),p=p))\n",
    "            #c_ind.append(p.argmax())\n",
    "            tmp=np.sum((X-X[c_ind[-1]])**2,axis=1).reshape(node_cnt,1)\n",
    "            dist_mat=np.concatenate((dist_mat,tmp),axis=1)\n",
    "        return X[c_ind]\n",
    "    \n",
    "    # apply kmeans|| initialization\n",
    "    if method==2:\n",
    "        node_cnt=X.shape[0]\n",
    "        # check efficiency\n",
    "        if l*r*c_cnt>node_cnt:\n",
    "            print('''Warning: The sampling clusters centers are more than the nodes,\n",
    "            which may induce inefficiency.''')\n",
    "        \n",
    "        # start initialization\n",
    "        c_ind=list()\n",
    "        # randomly pick one node\n",
    "        c_ind.append(random.randint(0,node_cnt-1))\n",
    "        dist_mat=np.sum((X-X[c_ind[0]])**2,axis=1).reshape(node_cnt,1)\n",
    "        rnd=0\n",
    "        while rnd<r:\n",
    "            # sample nodes based on oversample facor l*c_cnt\n",
    "            p=l*c_cnt*(np.min(dist_mat,axis=1))/sum(np.min(dist_mat,axis=1))\n",
    "            p_sample=np.random.uniform(size=node_cnt)\n",
    "            for i in range(node_cnt):\n",
    "                if p_sample[i]>p[i]:\n",
    "                    c_ind.append(i)\n",
    "            rnd+=1\n",
    "        # now there are approximate r*l*c_cnt nodes\n",
    "        # clustering them to get c_cnt clusters\n",
    "        k_sub_cluster=KMeans(c_cnt,method=1,n_init=10)\n",
    "        k_sub_cluster.fit(X[c_ind])\n",
    "        return k_sub_cluster.clusters.coords"
   ]
  },
  {
   "cell_type": "code",
   "execution_count": 4,
   "metadata": {
    "collapsed": true
   },
   "outputs": [],
   "source": [
    "####################\n",
    "# class Kmeans(c_cnt,method)\n",
    "# input: the number of clusters\n",
    "#        the initialization method\n",
    "# usage: build a Kmeans clustering classifier\n",
    "#        and apply Lloyd's algorithm\n",
    "# Yun Zhang 09/16/2017\n",
    "####################\n",
    "class KMeans():\n",
    "    \n",
    "    # initialize clustering classifier\n",
    "    def __init__(self,c_cnt,method=1,tol=1e-3,n_init=10,max_iter=300):\n",
    "        self.method=method\n",
    "        self.c_cnt=c_cnt\n",
    "        self.tol=1e-3\n",
    "        self.clusters=None\n",
    "        self.n_init=n_init\n",
    "        self.max_iter=max_iter\n",
    "    \n",
    "    # train the classifer within train data X\n",
    "    def fit(self,X):\n",
    "        # apply Lloyd's algorithm\n",
    "        for i in range(self.n_init):\n",
    "            iter=0\n",
    "            cluster_tmp=clusters(self.c_cnt,InitializeKmeans(X,self.c_cnt,self.method))\n",
    "            while (not cluster_tmp.is_converged(self.tol)) and iter<self.max_iter:\n",
    "                cluster_tmp.assign_nodes(X)\n",
    "                cluster_tmp.update_coord(X)\n",
    "            if i==0:\n",
    "                self.clusters=cluster_tmp\n",
    "            else:\n",
    "                if self.clusters.train_ss_dist(X)>cluster_tmp.train_ss_dist(X):\n",
    "                    self.clusters=cluster_tmp\n",
    "    \n",
    "    # predict clustering for input data\n",
    "    def predict(self,X):\n",
    "        return self.clusters.predict(X)"
   ]
  },
  {
   "cell_type": "code",
   "execution_count": 5,
   "metadata": {
    "collapsed": true
   },
   "outputs": [],
   "source": [
    "X=np.array([[5,7,8,7,0],\n",
    "[4,1,3,0,10],\n",
    "[3,0,1,4,2],\n",
    "[9,2,1,3,1],\n",
    "[7,5,4,7,7],\n",
    "[5,8,9,7,7],\n",
    "[4,7,4,7,1],\n",
    "[6,0,7,4,10],\n",
    "[0,6,8,7,8],\n",
    "[4,8,1,1,5]])"
   ]
  },
  {
   "cell_type": "code",
   "execution_count": 6,
   "metadata": {
    "collapsed": false
   },
   "outputs": [],
   "source": [
    "k=KMeans(4,method=2,n_init=10)"
   ]
  },
  {
   "cell_type": "code",
   "execution_count": 7,
   "metadata": {
    "collapsed": false
   },
   "outputs": [],
   "source": [
    "k.fit(X.astype(float))"
   ]
  },
  {
   "cell_type": "code",
   "execution_count": 8,
   "metadata": {
    "collapsed": false
   },
   "outputs": [
    {
     "data": {
      "text/plain": [
       "[{0, 6}, {2, 3, 9}, {4, 5, 8}, {1, 7}]"
      ]
     },
     "execution_count": 8,
     "metadata": {},
     "output_type": "execute_result"
    }
   ],
   "source": [
    "k.clusters.nodes"
   ]
  },
  {
   "cell_type": "code",
   "execution_count": 9,
   "metadata": {
    "collapsed": false
   },
   "outputs": [
    {
     "data": {
      "text/plain": [
       "141.5"
      ]
     },
     "execution_count": 9,
     "metadata": {},
     "output_type": "execute_result"
    }
   ],
   "source": [
    "k.clusters.train_ss_dist(X)"
   ]
  },
  {
   "cell_type": "code",
   "execution_count": 10,
   "metadata": {
    "collapsed": true
   },
   "outputs": [],
   "source": [
    "X=np.array([[8,1,0,3,7,3,7,8,9,9],\n",
    "[10,9,3,4,6,7,0,7,5,1],\n",
    "[1,9,1,4,3,6,10,5,8,3],\n",
    "[2,4,1,0,4,8,9,5,10,1],\n",
    "[8,2,6,0,5,5,4,10,6,7],\n",
    "[3,4,2,7,6,0,9,7,10,4],\n",
    "[0,6,2,10,7,9,8,2,6,2],\n",
    "[4,5,9,5,1,3,1,8,10,4],\n",
    "[6,5,3,2,10,1,6,0,6,3],\n",
    "[9,5,9,10,0,10,6,6,10,9]])"
   ]
  },
  {
   "cell_type": "code",
   "execution_count": 11,
   "metadata": {
    "collapsed": false
   },
   "outputs": [
    {
     "data": {
      "text/plain": [
       "[{0, 5, 8}, {1, 4, 7}, {2, 3, 6}, {9}]"
      ]
     },
     "execution_count": 11,
     "metadata": {},
     "output_type": "execute_result"
    }
   ],
   "source": [
    "k=KMeans(4,method=2,n_init=10)\n",
    "k.fit(X.astype(float))\n",
    "k.clusters.nodes"
   ]
  },
  {
   "cell_type": "code",
   "execution_count": 19,
   "metadata": {
    "collapsed": false
   },
   "outputs": [
    {
     "ename": "TypeError",
     "evalue": "sequence item 0: expected str instance, numpy.int64 found",
     "output_type": "error",
     "traceback": [
      "\u001b[0;31m---------------------------------------------------------------------------\u001b[0m",
      "\u001b[0;31mTypeError\u001b[0m                                 Traceback (most recent call last)",
      "\u001b[0;32m<ipython-input-19-80d826206655>\u001b[0m in \u001b[0;36m<module>\u001b[0;34m()\u001b[0m\n\u001b[1;32m      1\u001b[0m \u001b[0;32mfor\u001b[0m \u001b[0mx\u001b[0m \u001b[0;32min\u001b[0m \u001b[0mX\u001b[0m\u001b[0;34m:\u001b[0m\u001b[0;34m\u001b[0m\u001b[0m\n\u001b[0;32m----> 2\u001b[0;31m     \u001b[0mprint\u001b[0m\u001b[0;34m(\u001b[0m\u001b[0mstr\u001b[0m\u001b[0;34m(\u001b[0m\u001b[0;34m','\u001b[0m\u001b[0;34m.\u001b[0m\u001b[0mjoin\u001b[0m\u001b[0;34m(\u001b[0m\u001b[0mx\u001b[0m\u001b[0;34m)\u001b[0m\u001b[0;34m)\u001b[0m\u001b[0;34m)\u001b[0m\u001b[0;34m\u001b[0m\u001b[0m\n\u001b[0m",
      "\u001b[0;31mTypeError\u001b[0m: sequence item 0: expected str instance, numpy.int64 found"
     ]
    }
   ],
   "source": [
    "print('2,3,4,5\\n2,3,4,5')"
   ]
  },
  {
   "cell_type": "code",
   "execution_count": 27,
   "metadata": {
    "collapsed": false
   },
   "outputs": [
    {
     "name": "stdout",
     "output_type": "stream",
     "text": [
      "8,1,0,3,7,3,7,8,9,9\n",
      "10,9,3,4,6,7,0,7,5,1\n",
      "1,9,1,4,3,6,10,5,8,3\n",
      "2,4,1,0,4,8,9,5,10,1\n",
      "8,2,6,0,5,5,4,10,6,7\n",
      "3,4,2,7,6,0,9,7,10,4\n",
      "0,6,2,10,7,9,8,2,6,2\n",
      "4,5,9,5,1,3,1,8,10,4\n",
      "6,5,3,2,10,1,6,0,6,3\n",
      "9,5,9,10,0,10,6,6,10,9\n"
     ]
    }
   ],
   "source": [
    "\n",
    "print('<br>'.join([','.join(x) for x in X.astype(str)]))"
   ]
  },
  {
   "cell_type": "code",
   "execution_count": 30,
   "metadata": {
    "collapsed": false
   },
   "outputs": [
    {
     "data": {
      "text/plain": [
       "[5, 4, 3, 7]"
      ]
     },
     "execution_count": 30,
     "metadata": {},
     "output_type": "execute_result"
    }
   ],
   "source": [
    "a=[7,3,4,5]\n",
    "b=[5,4,3,2]\n",
    "[x for _, x in sorted(zip(b,a), key=lambda pair: pair[0])]"
   ]
  },
  {
   "cell_type": "code",
   "execution_count": 31,
   "metadata": {
    "collapsed": false
   },
   "outputs": [
    {
     "data": {
      "text/plain": [
       "[2, 3, 4, 5]"
      ]
     },
     "execution_count": 31,
     "metadata": {},
     "output_type": "execute_result"
    }
   ],
   "source": [
    "sorted(b)"
   ]
  },
  {
   "cell_type": "code",
   "execution_count": 32,
   "metadata": {
    "collapsed": true
   },
   "outputs": [],
   "source": [
    "a=[np.array([1,2]),np.array([1,2])]"
   ]
  },
  {
   "cell_type": "code",
   "execution_count": 35,
   "metadata": {
    "collapsed": false
   },
   "outputs": [],
   "source": [
    "a=np.array(a)"
   ]
  },
  {
   "cell_type": "code",
   "execution_count": 36,
   "metadata": {
    "collapsed": false
   },
   "outputs": [
    {
     "data": {
      "text/plain": [
       "array([['1', '2'],\n",
       "       ['1', '2']], \n",
       "      dtype='<U21')"
      ]
     },
     "execution_count": 36,
     "metadata": {},
     "output_type": "execute_result"
    }
   ],
   "source": [
    "a.astype(str)"
   ]
  },
  {
   "cell_type": "code",
   "execution_count": 37,
   "metadata": {
    "collapsed": true
   },
   "outputs": [],
   "source": [
    "a=''"
   ]
  },
  {
   "cell_type": "code",
   "execution_count": 38,
   "metadata": {
    "collapsed": false
   },
   "outputs": [
    {
     "data": {
      "text/plain": [
       "0"
      ]
     },
     "execution_count": 38,
     "metadata": {},
     "output_type": "execute_result"
    }
   ],
   "source": [
    "len(a)"
   ]
  },
  {
   "cell_type": "code",
   "execution_count": null,
   "metadata": {
    "collapsed": true
   },
   "outputs": [],
   "source": []
  }
 ],
 "metadata": {
  "kernelspec": {
   "display_name": "Python 3",
   "language": "python",
   "name": "python3"
  },
  "language_info": {
   "codemirror_mode": {
    "name": "ipython",
    "version": 3
   },
   "file_extension": ".py",
   "mimetype": "text/x-python",
   "name": "python",
   "nbconvert_exporter": "python",
   "pygments_lexer": "ipython3",
   "version": "3.6.0"
  }
 },
 "nbformat": 4,
 "nbformat_minor": 2
}
